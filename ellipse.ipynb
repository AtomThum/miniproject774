{
 "cells": [
  {
   "cell_type": "code",
   "execution_count": 1,
   "metadata": {},
   "outputs": [
    {
     "data": {
      "image/png": "[encoded data removed]",
      "text/plain": [
       "<Figure size 640x480 with 1 Axes>"
      ]
     },
     "metadata": {},
     "output_type": "display_data"
    }
   ],
   "source": [
    "import numpy as np\n",
    "import matplotlib.pyplot as plt\n",
    "\n",
    "def rasterellipse(a, b):\n",
    "    x = 0\n",
    "    y = b\n",
    "\n",
    "    points = []  # Initialize a list to store the points in the ellipse\n",
    "    a_sqr = a * a  # Precalc for saving computation time\n",
    "    b_sqr = b * b\n",
    "    a_sqr2 = 2 * a_sqr\n",
    "    b_sqr2 = 2 * b_sqr\n",
    "    p1 = b_sqr - b * a_sqr + 1 / 4 * a_sqr  # Given by the properties of the ellipse, p of the first section\n",
    "    dx = 0  # Initialize the step in the x direction\n",
    "    dy = a_sqr2 * b\n",
    "\n",
    "    # Lower region mirror\n",
    "    while dx < dy:\n",
    "        points.extend([\n",
    "            (x, y), (-x, y), (x, -y), (-x, -y)\n",
    "        ])\n",
    "        x += 1\n",
    "        dx += b_sqr2\n",
    "        if p1 < 0:\n",
    "            p1 += dx + b_sqr\n",
    "        else:\n",
    "            y -= 1\n",
    "            dy -= a_sqr2\n",
    "            p1 += dx + b_sqr - dy\n",
    "\n",
    "    # Upper region mirror\n",
    "    p2 = b_sqr * (x + 1 / 2) ** 2 + a_sqr * (y - 1) ** 2 - a_sqr * b_sqr  # p of the upper section\n",
    "    while y >= 0:\n",
    "        points.extend([\n",
    "            (x, y), (-x, y), (x, -y), (-x, -y)\n",
    "        ])\n",
    "        y -= 1\n",
    "        dy -= a_sqr2\n",
    "\n",
    "        if p2 > 0:\n",
    "            p2 += a_sqr - dy\n",
    "        else:\n",
    "            x += 1\n",
    "            dx += b_sqr2\n",
    "            p2 += a_sqr - dy + dx\n",
    "\n",
    "    return points\n",
    "\n",
    "# Test\n",
    "points = rasterellipse(20, 15)\n",
    "points = np.array(points)  # Convert to numpy array for easy manipulation\n",
    "\n",
    "plt.scatter(points[:, 0], points[:, 1])\n",
    "plt.scatter(points[:, 0], points[:, 1], c='r', marker='x')\n",
    "\n",
    "plt.axis('equal')  # Set the aspect ratio to be equal\n",
    "plt.show()"
   ]
  },
  {
   "cell_type": "code",
   "execution_count": null,
   "metadata": {},
   "outputs": [],
   "source": [
    "# Convert (x, y) to int\n",
    "\n",
    "import numpy as np\n",
    "import matplotlib.pyplot as plt\n",
    "\n",
    "def map(n, x, y):\n",
    "  grid_size = 2*n+1\n",
    "  mapped = (x-1)*grid_size+y\n",
    "\n",
    "  return mapped\n"
   ]
  }
 ],
 "metadata": {
  "kernelspec": {
   "display_name": "Python 3",
   "language": "python",
   "name": "python3"
  },
  "language_info": {
   "codemirror_mode": {
    "name": "ipython",
    "version": 3
   },
   "file_extension": ".py",
   "mimetype": "text/x-python",
   "name": "python",
   "nbconvert_exporter": "python",
   "pygments_lexer": "ipython3",
   "version": "3.10.8"
  },
  "orig_nbformat": 4
 },
 "nbformat": 4,
 "nbformat_minor": 2
}
