{
 "cells": [
  {
   "cell_type": "markdown",
   "metadata": {},
   "source": []
  },
  {
   "cell_type": "markdown",
   "metadata": {},
   "source": [
    "# Disclaimer:\n",
    "This is not meant to be run, it's meant to be a collection of vectors that's used for the demos"
   ]
  },
  {
   "cell_type": "code",
   "execution_count": null,
   "metadata": {},
   "outputs": [],
   "source": [
    "# Totoism Logo 13x13\n",
    "pictureVector = vectorize(n, rasterellipse(4, 4)) + vectorize(n, rasterellipse(6, 6)) + vectorize(n, [\n",
    "    (0, 0), (1, 0), (-1, 0), (0, 1),\n",
    "    (0, 2), (1, 3), (2, -1), (-1, -1),\n",
    "    (-2, -1), (-3, -1), (-4, -1)\n",
    "])\n",
    "transpositionBasis = [\n",
    "    (0, 0), (-2, 1)\n",
    "]\n",
    "# Perfect transposition basis: (0, 0), (2, 2), (-2, 2)"
   ]
  },
  {
   "cell_type": "code",
   "execution_count": null,
   "metadata": {},
   "outputs": [],
   "source": [
    "# Yin-Yang 17x17\n",
    "pictureVector = vectorize(n, rasterellipse(7, 7)) + vectorize(n, [\n",
    "    (0, 0), (-1, 0), (-2, 0), (-3, 0), (-4, 0), (-5, 0), (-6, 0),\n",
    "    (3, 1), (2, 1), (1, 1), (0, 1), (-1, 1), (-2, 1), (-3, 1), (-4, 1), (-5, 1), (-6, 1),\n",
    "    (4, 2), (3, 2), (2, 2), (1, 2), (0, 2), (-1, 2), (-2, 2), (-3, 2), (-4, 2), (-5, 2), (-6, 2),\n",
    "    (4, 3), (3, 3), (2, 3), (1, 3), (0, 3), (-3, 3), (-4, 3), (-5, 3),\n",
    "    (5, 4), (4, 4), (3, 4), (2, 4), (1, 4), (0, 4), (-3, 4), (-4, 4), (-5, 4),\n",
    "    (4, 5), (3, 5), (2, 5), (1, 5), (0, 5), (-1, 5), (-2, 5), (-3, 5), (-4, 5),\n",
    "    (2, 6), (1, 6), (0, 6), (-1, 6), (-2, 6),\n",
    "    (-3, -1), (-4, -1), (-5, -1), (-6, -1),\n",
    "    (-4, -2), (-5, -2), (-6, -2),\n",
    "    (-5, -3), (-5, -4),\n",
    "    (1, -3), (2, -3), (1, -4), (2, -4)\n",
    "])\n",
    "transpositionBasis = [\n",
    "    (0, 0), (1, 2)\n",
    "]\n",
    "# Perfect transposition basis: (0, 0), (-1, 4), (-1, 3)"
   ]
  },
  {
   "cell_type": "code",
   "execution_count": null,
   "metadata": {},
   "outputs": [],
   "source": [
    "# Newsletter\n",
    "pictureVector = vectorize(n, [\n",
    "    (-2, -1), (-1, -1), (0, -1), (1, -1), (2, -1),\n",
    "    (-2, -3), (-1, -3), (0, -3), (1, -3), (2, -3),\n",
    "    (-2, 1), (-1, 1), (-2, 2), (-1, 2), (-2, 3), (-1, 3),\n",
    "    (1, 4), (1, 3), (1, 2), (1, 1), (2, 1), (3, 1),\n",
    "    (4, 0), (4, -1), (4, -2), (4, -3), (4, -4), (4, -5),\n",
    "    (3, -5), (2, -5), (1, -5), (0, -5), (-1, -5), (-2, -5), (-3, -5), (-4, -5),\n",
    "    (-4, -4), (-4, -3), (-4, -2), (-4, -1), (-4, 0), (-4, 1), (-4, 2), (-4, 3), (-4, 4), (-4, 5),\n",
    "    (-3, 5), (-2, 5), (-1, 5), (0, 5), (1, 5), (2, 4), (3, 3), (4, 2), (4, 1)\n",
    "])\n",
    "transpositionBasis = [\n",
    "    (0, -1), (1, 2)\n",
    "]\n",
    "# Perfect transposition basis: (0, 0), (1, 1), (-1, 1), (1, -1), (-1, -1)"
   ]
  }
 ],
 "metadata": {
  "kernelspec": {
   "display_name": "Julia 1.9.3",
   "language": "julia",
   "name": "julia-1.9"
  },
  "language_info": {
   "file_extension": ".jl",
   "mimetype": "application/julia",
   "name": "julia",
   "version": "1.9.3"
  },
  "orig_nbformat": 4
 },
 "nbformat": 4,
 "nbformat_minor": 2
}
