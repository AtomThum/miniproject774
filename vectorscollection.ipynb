{
 "cells": [
  {
   "cell_type": "code",
   "execution_count": null,
   "metadata": {
    "vscode": {
     "languageId": "julia"
    }
   },
   "outputs": [],
   "source": [
    "# Totoism Logo\n",
    "pictureVector = vectorize(n, rasterellipse(4, 4)) + vectorize(n, rasterellipse(6, 6)) + vectorize(n, [\n",
    "    (0, 0), (1, 0), (-1, 0), (0, 1),\n",
    "    (0, 2), (1, 3), (2, -1), (-1, -1),\n",
    "    (-2, -1), (-3, -1), (-4, -1)\n",
    "])\n",
    "transpositionBasis = [\n",
    "    (0, 0), (-2, 1)\n",
    "]"
   ]
  },
  {
   "cell_type": "markdown",
   "metadata": {},
   "source": []
  }
 ],
 "metadata": {
  "language_info": {
   "name": "python"
  },
  "orig_nbformat": 4
 },
 "nbformat": 4,
 "nbformat_minor": 2
}
